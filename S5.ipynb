{
 "cells": [
  {
   "cell_type": "markdown",
   "metadata": {
    "id": "n09vaEgP6pLj"
   },
   "source": [
    "# The School of AI: Assignment 5"
   ]
  },
  {
   "cell_type": "markdown",
   "metadata": {},
   "source": [
    "## Import necessary packages"
   ]
  },
  {
   "cell_type": "code",
   "execution_count": 1,
   "metadata": {
    "id": "6PlbomWY3RSq"
   },
   "outputs": [],
   "source": [
    "import torch\n",
    "import torch.nn as nn\n",
    "\n",
    "from utils import *\n",
    "from model import Net"
   ]
  },
  {
   "cell_type": "markdown",
   "metadata": {
    "id": "VjBHHQVA6sXt"
   },
   "source": [
    "## Check CUDA availability"
   ]
  },
  {
   "cell_type": "code",
   "execution_count": 2,
   "metadata": {
    "colab": {
     "base_uri": "https://localhost:8080/"
    },
    "id": "94BxVVBP3WwS",
    "outputId": "46605080-bcaa-4042-8b60-2b0aec71a6b4"
   },
   "outputs": [
    {
     "name": "stdout",
     "output_type": "stream",
     "text": [
      "CUDA Available? True\n"
     ]
    }
   ],
   "source": [
    "# CUDA?\n",
    "cuda = torch.cuda.is_available()\n",
    "print(\"CUDA Available?\", cuda)\n",
    "device = 'cuda' if torch.cuda.is_available() else 'cpu'"
   ]
  },
  {
   "cell_type": "markdown",
   "metadata": {
    "id": "3UHq59Sw6tmW"
   },
   "source": [
    "## Get transforms "
   ]
  },
  {
   "cell_type": "code",
   "execution_count": 3,
   "metadata": {},
   "outputs": [],
   "source": [
    "train_transforms = get_tfms('train')\n",
    "test_transforms = get_tfms('test')"
   ]
  },
  {
   "cell_type": "markdown",
   "metadata": {
    "id": "zQm17pM46zHL"
   },
   "source": [
    "## Get Train/Test Datasets"
   ]
  },
  {
   "cell_type": "code",
   "execution_count": 4,
   "metadata": {},
   "outputs": [],
   "source": [
    "train_ds = get_ds('train', train_transforms)\n",
    "test_ds = get_ds('test', test_transforms)"
   ]
  },
  {
   "cell_type": "markdown",
   "metadata": {
    "id": "_PKSHxto6116"
   },
   "source": [
    "## Generate Train/Test dataloaders"
   ]
  },
  {
   "cell_type": "code",
   "execution_count": 5,
   "metadata": {
    "id": "avCKK1uL4A68"
   },
   "outputs": [],
   "source": [
    "batch_size = 512\n",
    "kwargs = {'batch_size': batch_size, 'shuffle': False, 'num_workers': 2, 'pin_memory': True}\n",
    "train_loader, test_loader = get_dls(train_ds, test_ds, **kwargs)"
   ]
  },
  {
   "cell_type": "markdown",
   "metadata": {
    "id": "Hi_0rfq56-29"
   },
   "source": [
    "### show some sample images from dataloader"
   ]
  },
  {
   "cell_type": "code",
   "execution_count": 6,
   "metadata": {},
   "outputs": [
    {
     "data": {
      "image/png": "[encoded data removed]",
      "text/plain": [
       "<Figure size 640x480 with 12 Axes>"
      ]
     },
     "metadata": {},
     "output_type": "display_data"
    }
   ],
   "source": [
    "show_dls_samples(train_loader)"
   ]
  },
  {
   "cell_type": "markdown",
   "metadata": {
    "id": "y3XbVJSb7Aee"
   },
   "source": [
    "## Test the model with some random data"
   ]
  },
  {
   "cell_type": "code",
   "execution_count": 7,
   "metadata": {},
   "outputs": [],
   "source": [
    "xx = torch.randn(1,1,28,28).to(device)\n",
    "model = Net().to(device)\n",
    "pred = model(xx)"
   ]
  },
  {
   "cell_type": "markdown",
   "metadata": {
    "id": "89gd4_s7AO2y"
   },
   "source": [
    "## Train the model\n",
    "- Instantiate the model\n",
    "- get the optimizer instance\n",
    "- get the scheduler instance\n",
    "- get the criterion\n",
    "- run the training loop for desired number of epochs"
   ]
  },
  {
   "cell_type": "code",
   "execution_count": 8,
   "metadata": {
    "id": "7du4zM474LvT"
   },
   "outputs": [],
   "source": [
    "# Data to plot accuracy and loss graphs\n",
    "train_losses = []\n",
    "test_losses = []\n",
    "train_acc = []\n",
    "test_acc = []\n",
    "\n",
    "test_incorrect_pred = {'images': [], 'ground_truths': [], 'predicted_vals': []}"
   ]
  },
  {
   "cell_type": "code",
   "execution_count": 9,
   "metadata": {
    "colab": {
     "base_uri": "https://localhost:8080/"
    },
    "id": "Owqiet9M4TV7",
    "outputId": "f5c847c7-642b-4773-becf-70168897809e"
   },
   "outputs": [
    {
     "name": "stderr",
     "output_type": "stream",
     "text": [
      "  0%|                                                                                          | 0/118 [00:00<?, ?it/s]"
     ]
    },
    {
     "name": "stdout",
     "output_type": "stream",
     "text": [
      "Adjusting learning rate of group 0 to 4.0000e-03.\n",
      "Epoch 0\n"
     ]
    },
    {
     "name": "stderr",
     "output_type": "stream",
     "text": [
      "Train: Loss=0.6295 Batch_id=117 Accuracy=47.19: 100%|████████████████████████████████| 118/118 [00:05<00:00, 20.75it/s]\n",
      "  0%|                                                                                          | 0/118 [00:00<?, ?it/s]"
     ]
    },
    {
     "name": "stdout",
     "output_type": "stream",
     "text": [
      "Test set: Average loss: 0.0010, Accuracy: 8455/10000 (84.55%)\n",
      "\n",
      "Adjusting learning rate of group 0 to 4.0000e-03.\n",
      "Epoch 1\n"
     ]
    },
    {
     "name": "stderr",
     "output_type": "stream",
     "text": [
      "Train: Loss=0.3025 Batch_id=117 Accuracy=88.98: 100%|████████████████████████████████| 118/118 [00:05<00:00, 19.68it/s]\n",
      "  0%|                                                                                          | 0/118 [00:00<?, ?it/s]"
     ]
    },
    {
     "name": "stdout",
     "output_type": "stream",
     "text": [
      "Test set: Average loss: 0.0003, Accuracy: 9534/10000 (95.34%)\n",
      "\n",
      "Adjusting learning rate of group 0 to 4.0000e-03.\n",
      "Epoch 2\n"
     ]
    },
    {
     "name": "stderr",
     "output_type": "stream",
     "text": [
      "Train: Loss=0.3336 Batch_id=117 Accuracy=94.52: 100%|████████████████████████████████| 118/118 [00:05<00:00, 21.74it/s]\n",
      "  0%|                                                                                          | 0/118 [00:00<?, ?it/s]"
     ]
    },
    {
     "name": "stdout",
     "output_type": "stream",
     "text": [
      "Test set: Average loss: 0.0002, Accuracy: 9688/10000 (96.88%)\n",
      "\n",
      "Adjusting learning rate of group 0 to 4.0000e-03.\n",
      "Epoch 3\n"
     ]
    },
    {
     "name": "stderr",
     "output_type": "stream",
     "text": [
      "Train: Loss=0.2065 Batch_id=117 Accuracy=95.80: 100%|████████████████████████████████| 118/118 [00:05<00:00, 21.08it/s]\n",
      "  0%|                                                                                          | 0/118 [00:00<?, ?it/s]"
     ]
    },
    {
     "name": "stdout",
     "output_type": "stream",
     "text": [
      "Test set: Average loss: 0.0002, Accuracy: 9733/10000 (97.33%)\n",
      "\n",
      "Adjusting learning rate of group 0 to 4.0000e-03.\n",
      "Epoch 4\n"
     ]
    },
    {
     "name": "stderr",
     "output_type": "stream",
     "text": [
      "Train: Loss=0.1669 Batch_id=117 Accuracy=96.56: 100%|████████████████████████████████| 118/118 [00:05<00:00, 21.24it/s]\n",
      "  0%|                                                                                          | 0/118 [00:00<?, ?it/s]"
     ]
    },
    {
     "name": "stdout",
     "output_type": "stream",
     "text": [
      "Test set: Average loss: 0.0001, Accuracy: 9764/10000 (97.64%)\n",
      "\n",
      "Adjusting learning rate of group 0 to 4.0000e-03.\n",
      "Epoch 5\n"
     ]
    },
    {
     "name": "stderr",
     "output_type": "stream",
     "text": [
      "Train: Loss=0.1645 Batch_id=117 Accuracy=96.90: 100%|████████████████████████████████| 118/118 [00:05<00:00, 21.45it/s]\n",
      "  0%|                                                                                          | 0/118 [00:00<?, ?it/s]"
     ]
    },
    {
     "name": "stdout",
     "output_type": "stream",
     "text": [
      "Test set: Average loss: 0.0001, Accuracy: 9805/10000 (98.05%)\n",
      "\n",
      "Adjusting learning rate of group 0 to 4.0000e-03.\n",
      "Epoch 6\n"
     ]
    },
    {
     "name": "stderr",
     "output_type": "stream",
     "text": [
      "Train: Loss=0.1761 Batch_id=117 Accuracy=97.32: 100%|████████████████████████████████| 118/118 [00:05<00:00, 20.82it/s]\n",
      "  0%|                                                                                          | 0/118 [00:00<?, ?it/s]"
     ]
    },
    {
     "name": "stdout",
     "output_type": "stream",
     "text": [
      "Test set: Average loss: 0.0001, Accuracy: 9803/10000 (98.03%)\n",
      "\n",
      "Adjusting learning rate of group 0 to 4.0000e-03.\n",
      "Epoch 7\n"
     ]
    },
    {
     "name": "stderr",
     "output_type": "stream",
     "text": [
      "Train: Loss=0.1364 Batch_id=117 Accuracy=97.47: 100%|████████████████████████████████| 118/118 [00:05<00:00, 21.07it/s]\n",
      "  0%|                                                                                          | 0/118 [00:00<?, ?it/s]"
     ]
    },
    {
     "name": "stdout",
     "output_type": "stream",
     "text": [
      "Test set: Average loss: 0.0001, Accuracy: 9807/10000 (98.07%)\n",
      "\n",
      "Adjusting learning rate of group 0 to 4.0000e-03.\n",
      "Epoch 8\n"
     ]
    },
    {
     "name": "stderr",
     "output_type": "stream",
     "text": [
      "Train: Loss=0.0869 Batch_id=117 Accuracy=97.66: 100%|████████████████████████████████| 118/118 [00:05<00:00, 20.59it/s]\n",
      "  0%|                                                                                          | 0/118 [00:00<?, ?it/s]"
     ]
    },
    {
     "name": "stdout",
     "output_type": "stream",
     "text": [
      "Test set: Average loss: 0.0001, Accuracy: 9820/10000 (98.20%)\n",
      "\n",
      "Adjusting learning rate of group 0 to 4.0000e-03.\n",
      "Epoch 9\n"
     ]
    },
    {
     "name": "stderr",
     "output_type": "stream",
     "text": [
      "Train: Loss=0.1233 Batch_id=117 Accuracy=97.78: 100%|████████████████████████████████| 118/118 [00:05<00:00, 19.87it/s]\n",
      "  0%|                                                                                          | 0/118 [00:00<?, ?it/s]"
     ]
    },
    {
     "name": "stdout",
     "output_type": "stream",
     "text": [
      "Test set: Average loss: 0.0001, Accuracy: 9834/10000 (98.34%)\n",
      "\n",
      "Adjusting learning rate of group 0 to 4.0000e-03.\n",
      "Epoch 10\n"
     ]
    },
    {
     "name": "stderr",
     "output_type": "stream",
     "text": [
      "Train: Loss=0.0771 Batch_id=117 Accuracy=97.99: 100%|████████████████████████████████| 118/118 [00:06<00:00, 19.39it/s]\n",
      "  0%|                                                                                          | 0/118 [00:00<?, ?it/s]"
     ]
    },
    {
     "name": "stdout",
     "output_type": "stream",
     "text": [
      "Test set: Average loss: 0.0001, Accuracy: 9861/10000 (98.61%)\n",
      "\n",
      "Adjusting learning rate of group 0 to 4.0000e-03.\n",
      "Epoch 11\n"
     ]
    },
    {
     "name": "stderr",
     "output_type": "stream",
     "text": [
      "Train: Loss=0.1017 Batch_id=117 Accuracy=98.12: 100%|████████████████████████████████| 118/118 [00:05<00:00, 20.41it/s]\n",
      "  0%|                                                                                          | 0/118 [00:00<?, ?it/s]"
     ]
    },
    {
     "name": "stdout",
     "output_type": "stream",
     "text": [
      "Test set: Average loss: 0.0001, Accuracy: 9856/10000 (98.56%)\n",
      "\n",
      "Adjusting learning rate of group 0 to 4.0000e-03.\n",
      "Epoch 12\n"
     ]
    },
    {
     "name": "stderr",
     "output_type": "stream",
     "text": [
      "Train: Loss=0.1084 Batch_id=117 Accuracy=98.21: 100%|████████████████████████████████| 118/118 [00:05<00:00, 19.69it/s]\n",
      "  0%|                                                                                          | 0/118 [00:00<?, ?it/s]"
     ]
    },
    {
     "name": "stdout",
     "output_type": "stream",
     "text": [
      "Test set: Average loss: 0.0001, Accuracy: 9848/10000 (98.48%)\n",
      "\n",
      "Adjusting learning rate of group 0 to 4.0000e-03.\n",
      "Epoch 13\n"
     ]
    },
    {
     "name": "stderr",
     "output_type": "stream",
     "text": [
      "Train: Loss=0.0965 Batch_id=117 Accuracy=98.20: 100%|████████████████████████████████| 118/118 [00:05<00:00, 19.98it/s]\n",
      "  0%|                                                                                          | 0/118 [00:00<?, ?it/s]"
     ]
    },
    {
     "name": "stdout",
     "output_type": "stream",
     "text": [
      "Test set: Average loss: 0.0001, Accuracy: 9872/10000 (98.72%)\n",
      "\n",
      "Adjusting learning rate of group 0 to 4.0000e-03.\n",
      "Epoch 14\n"
     ]
    },
    {
     "name": "stderr",
     "output_type": "stream",
     "text": [
      "Train: Loss=0.1175 Batch_id=117 Accuracy=98.36: 100%|████████████████████████████████| 118/118 [00:06<00:00, 19.13it/s]\n",
      "  0%|                                                                                          | 0/118 [00:00<?, ?it/s]"
     ]
    },
    {
     "name": "stdout",
     "output_type": "stream",
     "text": [
      "Test set: Average loss: 0.0001, Accuracy: 9881/10000 (98.81%)\n",
      "\n",
      "Adjusting learning rate of group 0 to 4.0000e-04.\n",
      "Epoch 15\n"
     ]
    },
    {
     "name": "stderr",
     "output_type": "stream",
     "text": [
      "Train: Loss=0.0753 Batch_id=117 Accuracy=98.58: 100%|████████████████████████████████| 118/118 [00:05<00:00, 19.73it/s]\n",
      "  0%|                                                                                          | 0/118 [00:00<?, ?it/s]"
     ]
    },
    {
     "name": "stdout",
     "output_type": "stream",
     "text": [
      "Test set: Average loss: 0.0001, Accuracy: 9896/10000 (98.96%)\n",
      "\n",
      "Adjusting learning rate of group 0 to 4.0000e-04.\n",
      "Epoch 16\n"
     ]
    },
    {
     "name": "stderr",
     "output_type": "stream",
     "text": [
      "Train: Loss=0.0763 Batch_id=117 Accuracy=98.67: 100%|████████████████████████████████| 118/118 [00:06<00:00, 18.53it/s]\n",
      "  0%|                                                                                          | 0/118 [00:00<?, ?it/s]"
     ]
    },
    {
     "name": "stdout",
     "output_type": "stream",
     "text": [
      "Test set: Average loss: 0.0001, Accuracy: 9905/10000 (99.05%)\n",
      "\n",
      "Adjusting learning rate of group 0 to 4.0000e-04.\n",
      "Epoch 17\n"
     ]
    },
    {
     "name": "stderr",
     "output_type": "stream",
     "text": [
      "Train: Loss=0.0937 Batch_id=117 Accuracy=98.69: 100%|████████████████████████████████| 118/118 [00:06<00:00, 19.20it/s]\n",
      "  0%|                                                                                          | 0/118 [00:00<?, ?it/s]"
     ]
    },
    {
     "name": "stdout",
     "output_type": "stream",
     "text": [
      "Test set: Average loss: 0.0001, Accuracy: 9906/10000 (99.06%)\n",
      "\n",
      "Adjusting learning rate of group 0 to 4.0000e-04.\n",
      "Epoch 18\n"
     ]
    },
    {
     "name": "stderr",
     "output_type": "stream",
     "text": [
      "Train: Loss=0.0705 Batch_id=117 Accuracy=98.73: 100%|████████████████████████████████| 118/118 [00:06<00:00, 19.18it/s]\n",
      "  0%|                                                                                          | 0/118 [00:00<?, ?it/s]"
     ]
    },
    {
     "name": "stdout",
     "output_type": "stream",
     "text": [
      "Test set: Average loss: 0.0001, Accuracy: 9905/10000 (99.05%)\n",
      "\n",
      "Adjusting learning rate of group 0 to 4.0000e-04.\n",
      "Epoch 19\n"
     ]
    },
    {
     "name": "stderr",
     "output_type": "stream",
     "text": [
      "Train: Loss=0.0895 Batch_id=117 Accuracy=98.71: 100%|████████████████████████████████| 118/118 [00:06<00:00, 18.05it/s]\n"
     ]
    },
    {
     "name": "stdout",
     "output_type": "stream",
     "text": [
      "Test set: Average loss: 0.0001, Accuracy: 9902/10000 (99.02%)\n",
      "\n",
      "Adjusting learning rate of group 0 to 4.0000e-04.\n"
     ]
    }
   ],
   "source": [
    "model = Net().to(device)\n",
    "optimizer = get_optimizer(model.parameters(), lr=4e-3, momentum=0.9)\n",
    "scheduler = get_scheduler(optimizer, step_size=15, gamma=0.1, verbose=True)\n",
    "# New Line\n",
    "criterion = getlossCriterion()\n",
    "\n",
    "num_epochs = 20\n",
    "\n",
    "for epoch in range(0, num_epochs):\n",
    "  print(f'Epoch {epoch}')\n",
    "  train_acc, train_losses = train_step(model, device, train_loader, optimizer, criterion, train_acc, train_losses)\n",
    "  test_acc, test_losses = test_step(model, device, test_loader, criterion, test_acc, test_losses)\n",
    "  scheduler.step()"
   ]
  },
  {
   "cell_type": "markdown",
   "metadata": {
    "id": "B-LM-Z1k6FcF"
   },
   "source": [
    "## Plot the accuracies / Losses"
   ]
  },
  {
   "cell_type": "code",
   "execution_count": 10,
   "metadata": {},
   "outputs": [
    {
     "data": {
      "image/png": "[encoded data removed]",
      "text/plain": [
       "<Figure size 1500x1000 with 4 Axes>"
      ]
     },
     "metadata": {},
     "output_type": "display_data"
    }
   ],
   "source": [
    "plot_acc_loss(train_losses, train_acc, test_losses, test_acc)"
   ]
  },
  {
   "cell_type": "markdown",
   "metadata": {},
   "source": [
    "## Model Summary"
   ]
  },
  {
   "cell_type": "code",
   "execution_count": 11,
   "metadata": {
    "id": "C8WZPfXe4iK_"
   },
   "outputs": [
    {
     "name": "stdout",
     "output_type": "stream",
     "text": [
      "Requirement already satisfied: torchsummary in c:\\users\\sachin\\anaconda3\\envs\\cvaiac2023\\lib\\site-packages (1.5.1)\n",
      "----------------------------------------------------------------\n",
      "        Layer (type)               Output Shape         Param #\n",
      "================================================================\n",
      "            Conv2d-1           [-1, 32, 26, 26]             320\n",
      "            Conv2d-2           [-1, 64, 24, 24]          18,496\n",
      "            Conv2d-3          [-1, 128, 10, 10]          73,856\n",
      "            Conv2d-4            [-1, 256, 8, 8]         295,168\n",
      "            Linear-5                   [-1, 50]         204,850\n",
      "            Linear-6                   [-1, 10]             510\n",
      "================================================================\n",
      "Total params: 593,200\n",
      "Trainable params: 593,200\n",
      "Non-trainable params: 0\n",
      "----------------------------------------------------------------\n",
      "Input size (MB): 0.00\n",
      "Forward/backward pass size (MB): 0.67\n",
      "Params size (MB): 2.26\n",
      "Estimated Total Size (MB): 2.94\n",
      "----------------------------------------------------------------\n"
     ]
    }
   ],
   "source": [
    "!pip install torchsummary\n",
    "from torchsummary import summary\n",
    "use_cuda = torch.cuda.is_available()\n",
    "device = torch.device(\"cuda\" if use_cuda else \"cpu\")\n",
    "model = Net().to(device)\n",
    "summary(model, input_size=(1, 28, 28))"
   ]
  }
 ],
 "metadata": {
  "accelerator": "GPU",
  "colab": {
   "gpuType": "T4",
   "provenance": []
  },
  "gpuClass": "standard",
  "kernelspec": {
   "display_name": "Python 3 (ipykernel)",
   "language": "python",
   "name": "python3"
  },
  "language_info": {
   "codemirror_mode": {
    "name": "ipython",
    "version": 3
   },
   "file_extension": ".py",
   "mimetype": "text/x-python",
   "name": "python",
   "nbconvert_exporter": "python",
   "pygments_lexer": "ipython3",
   "version": "3.9.18"
  }
 },
 "nbformat": 4,
 "nbformat_minor": 4
}
